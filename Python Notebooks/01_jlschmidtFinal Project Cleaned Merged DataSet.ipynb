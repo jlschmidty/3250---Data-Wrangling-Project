{
 "cells": [
  {
   "cell_type": "markdown",
   "id": "f7029560-6878-49ee-b3d9-56e8e54c879f",
   "metadata": {},
   "source": [
    "# Project File Merging"
   ]
  },
  {
   "cell_type": "code",
   "execution_count": 4,
   "id": "9621694f-cc20-4391-8622-7006b36908f2",
   "metadata": {},
   "outputs": [
    {
     "name": "stdout",
     "output_type": "stream",
     "text": [
      "The data has been cleaned and saved to 'cleaned_final_merged_movies.csv'.\n"
     ]
    }
   ],
   "source": [
    "# Kaggle DataSet Link https://www.kaggle.com/datasets/rajugc/imdb-top-250-movies-dataset\n",
    "import pandas as pd\n",
    "\n",
    "# Load the first file\n",
    "file1 = pd.read_csv('/Users/schmidty/Desktop/Data Wrang/Project 1/Movies Box Office Collection Data/cleanmovie_data.csv')\n",
    "\n",
    "# Load the second file\n",
    "file2 = pd.read_csv('/Users/schmidty/Desktop/Data Wrang/Project 1/Movies Box Office Collection Data/IMDB Top 250 Movies.csv')\n",
    "\n",
    "# Merge the two files on the 'name' column\n",
    "merged_file = pd.merge(file1, file2, left_on='Name of Movie', right_on='name')\n",
    "\n",
    "# Drop rows where the specified columns have NaN values\n",
    "df_cleaned = merged_file.dropna(subset=['rank', 'Name of Movie', 'Year of Release', 'Watchtime', 'Movie Rating'])\n",
    "\n",
    "# Drop one of the 'Watchtime' columns and one of the 'rating' columns\n",
    "df_cleaned = df_cleaned.drop(columns=['Watchtime', 'rating'])\n",
    "\n",
    "# Save the cleaned data to a new CSV file\n",
    "df_cleaned.to_csv('/Users/schmidty/Desktop/Data Wrang/Project 1/Movies Box Office Collection Data/cleaned_final_merged_movies.csv', index=False)\n",
    "\n",
    "print(\"The data has been cleaned and saved to 'cleaned_final_merged_movies.csv'.\")"
   ]
  },
  {
   "cell_type": "code",
   "execution_count": null,
   "id": "dac73a9f-f31b-4de6-a1a8-62aacfc0024c",
   "metadata": {},
   "outputs": [],
   "source": []
  }
 ],
 "metadata": {
  "kernelspec": {
   "display_name": "Python 3 (ipykernel)",
   "language": "python",
   "name": "python3"
  },
  "language_info": {
   "codemirror_mode": {
    "name": "ipython",
    "version": 3
   },
   "file_extension": ".py",
   "mimetype": "text/x-python",
   "name": "python",
   "nbconvert_exporter": "python",
   "pygments_lexer": "ipython3",
   "version": "3.12.4"
  }
 },
 "nbformat": 4,
 "nbformat_minor": 5
}
