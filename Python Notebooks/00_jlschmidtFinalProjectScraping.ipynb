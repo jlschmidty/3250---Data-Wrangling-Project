{
 "cells": [
  {
   "cell_type": "markdown",
   "id": "1ca920c1-b8e4-4d3f-a78b-ca24b12c28d7",
   "metadata": {},
   "source": [
    "# Project Scraping"
   ]
  },
  {
   "cell_type": "code",
   "execution_count": 1,
   "id": "f6d407ae-73a9-4ffd-abb0-edb8e3a084e4",
   "metadata": {},
   "outputs": [
    {
     "name": "stdout",
     "output_type": "stream",
     "text": [
      "Requirement already satisfied: selenium in /opt/anaconda3/lib/python3.12/site-packages (4.26.1)\n",
      "Requirement already satisfied: urllib3<3,>=1.26 in /opt/anaconda3/lib/python3.12/site-packages (from urllib3[socks]<3,>=1.26->selenium) (2.2.2)\n",
      "Requirement already satisfied: trio~=0.17 in /opt/anaconda3/lib/python3.12/site-packages (from selenium) (0.24.0)\n",
      "Requirement already satisfied: trio-websocket~=0.9 in /opt/anaconda3/lib/python3.12/site-packages (from selenium) (0.11.1)\n",
      "Requirement already satisfied: certifi>=2021.10.8 in /opt/anaconda3/lib/python3.12/site-packages (from selenium) (2024.8.30)\n",
      "Requirement already satisfied: typing-extensions~=4.9 in /opt/anaconda3/lib/python3.12/site-packages (from selenium) (4.11.0)\n",
      "Requirement already satisfied: websocket-client~=1.8 in /opt/anaconda3/lib/python3.12/site-packages (from selenium) (1.8.0)\n",
      "Requirement already satisfied: attrs>=20.1.0 in /opt/anaconda3/lib/python3.12/site-packages (from trio~=0.17->selenium) (23.1.0)\n",
      "Requirement already satisfied: sortedcontainers in /opt/anaconda3/lib/python3.12/site-packages (from trio~=0.17->selenium) (2.4.0)\n",
      "Requirement already satisfied: idna in /opt/anaconda3/lib/python3.12/site-packages (from trio~=0.17->selenium) (3.7)\n",
      "Requirement already satisfied: outcome in /opt/anaconda3/lib/python3.12/site-packages (from trio~=0.17->selenium) (1.1.0)\n",
      "Requirement already satisfied: sniffio>=1.3.0 in /opt/anaconda3/lib/python3.12/site-packages (from trio~=0.17->selenium) (1.3.0)\n",
      "Requirement already satisfied: wsproto>=0.14 in /opt/anaconda3/lib/python3.12/site-packages (from trio-websocket~=0.9->selenium) (1.2.0)\n",
      "Requirement already satisfied: pysocks!=1.5.7,<2.0,>=1.5.6 in /opt/anaconda3/lib/python3.12/site-packages (from urllib3[socks]<3,>=1.26->selenium) (1.7.1)\n",
      "Requirement already satisfied: h11<1,>=0.9.0 in /opt/anaconda3/lib/python3.12/site-packages (from wsproto>=0.14->trio-websocket~=0.9->selenium) (0.14.0)\n",
      "Note: you may need to restart the kernel to use updated packages.\n"
     ]
    }
   ],
   "source": [
    "pip install selenium"
   ]
  },
  {
   "cell_type": "code",
   "execution_count": 2,
   "id": "d246dc68-4bf2-42dc-97f8-66cec3e5be05",
   "metadata": {},
   "outputs": [
    {
     "name": "stdout",
     "output_type": "stream",
     "text": [
      "                                         Name of movie Year of release  \\\n",
      "0                             The Shawshank Redemption            1994   \n",
      "1                                        The Godfather            1972   \n",
      "2                                      The Dark Knight            2008   \n",
      "3                                The Godfather Part II            1974   \n",
      "4                                         12 Angry Men            1957   \n",
      "..                                                 ...             ...   \n",
      "245                                            Rebecca            1940   \n",
      "246                                           The Help            2011   \n",
      "247                                     Cool Hand Luke            1967   \n",
      "248                          A Silent Voice: The Movie            2016   \n",
      "249  Demon Slayer: Kimetsu no Yaiba - The Movie: Mu...            2020   \n",
      "\n",
      "    Movie Rating Watchtime  \n",
      "0            9.3    2h 22m  \n",
      "1            9.2    2h 55m  \n",
      "2            9.0    2h 32m  \n",
      "3            9.0    3h 22m  \n",
      "4            9.0    1h 36m  \n",
      "..           ...       ...  \n",
      "245          8.1    2h 10m  \n",
      "246          8.1    2h 26m  \n",
      "247          8.0     2h 7m  \n",
      "248          8.1    2h 10m  \n",
      "249          8.2    1h 57m  \n",
      "\n",
      "[250 rows x 4 columns]\n",
      "Data saved to: /Users/schmidty/Desktop/Data Wrang/Project 1/Movies Box Office Collection Data/movie_data.csv\n"
     ]
    }
   ],
   "source": [
    "# Step 1: Install necessary packages (run these in a separate cell or before your script if needed)\n",
    "# !pip install selenium pandas webdriver-manager\n",
    "\n",
    "# Step 2: Import libraries\n",
    "import pandas as pd\n",
    "from selenium import webdriver\n",
    "from selenium.webdriver.chrome.service import Service\n",
    "from selenium.webdriver.common.by import By\n",
    "from selenium.webdriver.support.ui import WebDriverWait\n",
    "from selenium.webdriver.support import expected_conditions as EC\n",
    "from webdriver_manager.chrome import ChromeDriverManager  # Optional, for automatic chromedriver installation\n",
    "\n",
    "# Step 3: Set up the Selenium WebDriver\n",
    "service = Service(ChromeDriverManager().install())  # Automatically install chromedriver\n",
    "driver = webdriver.Chrome(service=service)\n",
    "\n",
    "# Step 4: Open the IMDb top 100 movies page\n",
    "driver.get('https://www.imdb.com/chart/top')\n",
    "\n",
    "# Step 5: Wait for the movies data to load (wait for a specific element to load)\n",
    "try:\n",
    "    WebDriverWait(driver, 20).until(EC.presence_of_all_elements_located((By.CSS_SELECTOR, 'div.sc-6ade9358-0.ktYEKX')))\n",
    "except Exception as e:\n",
    "    print(f\"Error loading page: {e}\")\n",
    "\n",
    "# Step 6: Initialize empty lists to store the movie details\n",
    "movie_name = []\n",
    "year = []\n",
    "time = []\n",
    "rating = []\n",
    "\n",
    "# Step 7: Locate the movie containers and loop through them to extract data\n",
    "movie_data = driver.find_elements(By.CSS_SELECTOR, 'div.sc-6ade9358-0.ktYEKX')\n",
    "\n",
    "for movie in movie_data:\n",
    "    try:\n",
    "        # Extract the movie title\n",
    "        title = movie.find_element(By.CSS_SELECTOR, 'h3.ipc-title__text').text.split('. ', 1)[1]  # Skip the number part\n",
    "        movie_name.append(title)\n",
    "        \n",
    "        # Extract the year and runtime\n",
    "        metadata = movie.find_elements(By.CSS_SELECTOR, 'span.sc-6ade9358-7.exckou.cli-title-metadata-item')\n",
    "        movie_year = metadata[0].text  # Year\n",
    "        movie_runtime = metadata[1].text  # Runtime\n",
    "        year.append(movie_year)\n",
    "        time.append(movie_runtime)\n",
    "        \n",
    "        # Extract the IMDb rating\n",
    "        imdb_rating = movie.find_element(By.CSS_SELECTOR, 'span.ipc-rating-star--rating').text\n",
    "        rating.append(imdb_rating)\n",
    "        \n",
    "    except Exception as e:\n",
    "        print(f\"Error extracting data for a movie: {e}\")\n",
    "        continue\n",
    "\n",
    "# Step 8: Close the driver after scraping\n",
    "driver.quit()\n",
    "\n",
    "# Step 9: Create a DataFrame from the scraped data\n",
    "movie_df = pd.DataFrame({\n",
    "    'Name of movie': movie_name,\n",
    "    'Year of release': year,\n",
    "    'Watchtime': time,\n",
    "    'Movie Rating': rating\n",
    "})\n",
    "\n",
    "# Step 10: Display the dataframe\n",
    "print(movie_df[['Name of movie', 'Year of release', 'Movie Rating', 'Watchtime']])\n",
    "\n",
    "# Step 11: Save the DataFrame to your specified path\n",
    "output_path = '/Users/schmidty/Desktop/Data Wrang/Project 1/Movies Box Office Collection Data/movie_data.csv'\n",
    "movie_df.to_csv(output_path, index=False)\n",
    "\n",
    "print(f\"Data saved to: {output_path}\")"
   ]
  },
  {
   "cell_type": "code",
   "execution_count": null,
   "id": "999aa54f-222d-4edb-aa01-f2ebfb5a4222",
   "metadata": {},
   "outputs": [],
   "source": []
  }
 ],
 "metadata": {
  "kernelspec": {
   "display_name": "Python 3 (ipykernel)",
   "language": "python",
   "name": "python3"
  },
  "language_info": {
   "codemirror_mode": {
    "name": "ipython",
    "version": 3
   },
   "file_extension": ".py",
   "mimetype": "text/x-python",
   "name": "python",
   "nbconvert_exporter": "python",
   "pygments_lexer": "ipython3",
   "version": "3.12.4"
  }
 },
 "nbformat": 4,
 "nbformat_minor": 5
}
